{
 "cells": [
  {
   "cell_type": "code",
   "execution_count": 36,
   "metadata": {
    "ExecuteTime": {
     "end_time": "2020-04-15T23:25:36.394159Z",
     "start_time": "2020-04-15T23:25:36.383183Z"
    }
   },
   "outputs": [],
   "source": [
    "%matplotlib inline\n",
    "import matplotlib.pyplot as plt\n",
    "import numpy as np\n",
    "import numpy.random as rnd\n",
    "\n",
    "\n",
    "# parametros\n",
    "\n",
    "num_agentes = 1000000\n",
    "av_num_contactos = 6\n",
    "disp_num_contactos = 4\n",
    "prob_contagio = .1\n",
    "t_rec = 14\n",
    "\n"
   ]
  },
  {
   "cell_type": "code",
   "execution_count": 37,
   "metadata": {
    "ExecuteTime": {
     "end_time": "2020-04-15T23:25:37.871331Z",
     "start_time": "2020-04-15T23:25:37.839779Z"
    }
   },
   "outputs": [],
   "source": [
    "def generar_red_vecinos(nagentes,av_num_contactos,disp_num_contactos,d=1.):\n",
    "    posiciones = rnd.uniform(-1,1,(num_agentes,2))\n",
    "    neighbours = [[] for i in range(num_agentes)]\n",
    "    for i in range(num_agentes):\n",
    "        pi = posiciones[i]\n",
    "        for j,pj in enumerate(posiciones):\n",
    "            if j<=i:\n",
    "                continue\n",
    "            dist = pi-pj\n",
    "            dist = np.exp(-(dist[0]**2+dist[1]**2)/d**2)\n",
    "            if dist > rnd.uniform(0,1):\n",
    "                neighbours[i].append(j)\n",
    "                neighbours[j].append(i)\n",
    "    neighbours = [sorted(nb) for nb in neighbours]\n",
    "    return neighbours, posiciones\n",
    "\n",
    "\n",
    "\n",
    "def generar_red_todos_vs_todos(nagentes,av_num_contactos,disp_num_contactos):\n",
    "    posiciones = rnd.uniform(-1,1,(num_agentes,2))\n",
    "    neighbours = [[] for i in range(num_agentes)]\n",
    "    net = []\n",
    "    for i in range(num_agentes):\n",
    "        nbonds = rnd.randint((av_num_contactos-disp_num_contactos)/2,(av_num_contactos+disp_num_contactos)/2+1 )\n",
    "        for k in range(nbonds):\n",
    "            while True:\n",
    "                j = rnd.randint(0,num_agentes)\n",
    "                if j == i:\n",
    "                    continue\n",
    "                pair = (i,j)\n",
    "                if j<i:\n",
    "                    pair = (j,i)\n",
    "                if pair not in net:\n",
    "                    neighbours[i].append(j)\n",
    "                    neighbours[j].append(i)\n",
    "                    break\n",
    "\n",
    "    neighbours = [sorted(nb) for nb in neighbours]\n",
    "    return neighbours, posiciones\n",
    "\n",
    "\n",
    "def generar_red_subredes_iguales_unico_puente(nagentes,av_num_contactos,disp_num_contactos):\n",
    "    posiciones = rnd.uniform(0,1,(num_agentes,2))\n",
    "    posiciones = np.array([ [p[0]*(-1)**i,p[1]]  for i,p in enumerate(posiciones)])\n",
    "    net = []\n",
    "    neighbours = [[] for i in range(num_agentes)]\n",
    "    neighbours[0].append(1)\n",
    "    neighbours[1].append(0)\n",
    "    \n",
    "    for i in range(num_agentes):\n",
    "        nbonds = rnd.randint((av_num_contactos-disp_num_contactos)/2,(av_num_contactos+disp_num_contactos)/2+1 )\n",
    "        for k in range(nbonds):\n",
    "            while True:\n",
    "                j = rnd.randint(0,num_agentes)\n",
    "                if i+j % 2==0:  # Divido a los agentes en dos grupos (pares e impares)\n",
    "                    continue\n",
    "                pair = (i,j)\n",
    "                if j<i:\n",
    "                    pair = (j,i)\n",
    "                if pair not in net:\n",
    "                    neighbours[i].append(j)\n",
    "                    neighbours[j].append(i)\n",
    "                    break\n",
    "\n",
    "    neighbours = [sorted(nb) for nb in neighbours]\n",
    "    return neighbours, posiciones\n"
   ]
  },
  {
   "cell_type": "code",
   "execution_count": 28,
   "metadata": {
    "ExecuteTime": {
     "end_time": "2020-04-15T23:24:11.870258Z",
     "start_time": "2020-04-15T23:24:11.862442Z"
    }
   },
   "outputs": [],
   "source": [
    "#redlocal=(neighbours,posiciones)"
   ]
  },
  {
   "cell_type": "code",
   "execution_count": 38,
   "metadata": {
    "ExecuteTime": {
     "end_time": "2020-04-15T23:26:20.009076Z",
     "start_time": "2020-04-15T23:25:45.673363Z"
    }
   },
   "outputs": [],
   "source": [
    "# Estado inicial\n",
    "state = [-1 for k in range(num_agentes)]\n",
    "tinfected = [-1 for k in range(num_agentes)]\n",
    "state[0] = 0\n",
    "num_infectados = [1/num_agentes]\n",
    "num_confirmados = [1/num_agentes]\n",
    "\n",
    "neighbours, posiciones = generar_red_todos_vs_todos(num_agentes,av_num_contactos,disp_num_contactos)\n",
    "\n",
    "\n",
    "#plt.scatter(5*posiciones[:,0],5*posiciones[:,1])\n",
    "\n",
    "#for i,ns in enumerate(neighbours):\n",
    "#    for j in ns:\n",
    "#        plt.plot(np.array([5*posiciones[i][0],5*posiciones[j][0]]),\n",
    "#                 np.array([5*posiciones[i][1],5*posiciones[j][1]]),c=\"blue\")\n",
    "\n",
    "#plt.show()"
   ]
  },
  {
   "cell_type": "code",
   "execution_count": 39,
   "metadata": {
    "ExecuteTime": {
     "end_time": "2020-04-15T23:28:08.570288Z",
     "start_time": "2020-04-15T23:26:24.392280Z"
    }
   },
   "outputs": [
    {
     "name": "stdout",
     "output_type": "stream",
     "text": [
      "step  0\n",
      "step  1\n",
      "step  2\n",
      "step  3\n",
      "step  4\n",
      "step  5\n",
      "step  6\n",
      "step  7\n",
      "step  8\n",
      "step  9\n",
      "step  10\n",
      "step  11\n",
      "step  12\n",
      "step  13\n",
      "step  14\n",
      "step  15\n",
      "step  16\n",
      "step  17\n",
      "step  18\n",
      "step  19\n",
      "step  20\n",
      "step  21\n",
      "step  22\n",
      "step  23\n",
      "step  24\n",
      "step  25\n",
      "step  26\n",
      "step  27\n",
      "step  28\n",
      "step  29\n",
      "step  30\n",
      "step  31\n",
      "step  32\n",
      "step  33\n",
      "step  34\n",
      "step  35\n",
      "step  36\n",
      "step  37\n",
      "step  38\n",
      "step  39\n",
      "step  40\n",
      "step  41\n",
      "step  42\n",
      "step  43\n",
      "step  44\n",
      "step  45\n",
      "step  46\n",
      "step  47\n",
      "step  48\n",
      "step  49\n",
      "step  50\n",
      "step  51\n",
      "step  52\n",
      "step  53\n",
      "step  54\n",
      "step  55\n",
      "step  56\n",
      "step  57\n",
      "step  58\n",
      "step  59\n",
      "step  60\n",
      "step  61\n",
      "step  62\n",
      "step  63\n",
      "step  64\n",
      "step  65\n",
      "step  66\n",
      "step  67\n",
      "step  68\n",
      "step  69\n",
      "step  70\n",
      "step  71\n",
      "step  72\n",
      "step  73\n",
      "step  74\n",
      "step  75\n",
      "step  76\n",
      "step  77\n",
      "step  78\n",
      "step  79\n",
      "step  80\n",
      "step  81\n",
      "step  82\n",
      "step  83\n",
      "step  84\n",
      "step  85\n",
      "step  86\n",
      "step  87\n",
      "step  88\n",
      "step  89\n"
     ]
    },
    {
     "data": {
      "text/plain": [
       "<matplotlib.legend.Legend at 0x7fabaf918f90>"
      ]
     },
     "execution_count": 39,
     "metadata": {},
     "output_type": "execute_result"
    },
    {
     "data": {
      "image/png": "[encoded data removed]",
      "text/plain": [
       "<Figure size 432x288 with 1 Axes>"
      ]
     },
     "metadata": {
      "needs_background": "light"
     },
     "output_type": "display_data"
    }
   ],
   "source": [
    "################################################################################\n",
    "# Red: al azar....\n",
    "\n",
    "\n",
    "###########################################################################\n",
    "\n",
    "\n",
    "\n",
    "def evol_net():\n",
    "    global state,t_rec, prob_contagio, neighbours, num_agentes,\\\n",
    "           num_infectados,num_confirmados\n",
    "    newstate = [s for s in state]\n",
    "    for i in range(num_agentes):\n",
    "        if state[i] == t_rec: # Ya se recuperó\n",
    "            continue\n",
    "        if state[i]>=0:  # Está infectado, en recuperación\n",
    "            newstate[i] = state[i]+1\n",
    "            continue\n",
    "        # Es susceptible: miro a sus vecinos y veo si lo infecto\n",
    "        for j in neighbours[i]:\n",
    "            if state[j] == t_rec or state[j]==-1:\n",
    "                continue\n",
    "            if rnd.uniform()<prob_contagio:\n",
    "                newstate[i] = 0 # i se contagió....\n",
    "    state = newstate\n",
    "    tmp = np.array(newstate)\n",
    "    tmp = tmp[(tmp!=-1)]\n",
    "    num_confirmados.append(len(tmp)/num_agentes)\n",
    "    tmp = tmp[tmp!=t_rec]\n",
    "    num_infectados.append(len(tmp)/num_agentes)\n",
    "    return\n",
    "\n",
    "for k in range(90):\n",
    "    print(\"step \", k)\n",
    "\n",
    "    evol_net()\n",
    "    \n",
    "plt.plot(num_infectados,label=\"fraccion infectados\")\n",
    "plt.plot(num_confirmados,label=\"fraccion confirmados\")\n",
    "plt.legend()"
   ]
  }
 ],
 "metadata": {
  "kernelspec": {
   "display_name": "Python 3",
   "language": "python",
   "name": "python3"
  },
  "language_info": {
   "codemirror_mode": {
    "name": "ipython",
    "version": 3
   },
   "file_extension": ".py",
   "mimetype": "text/x-python",
   "name": "python",
   "nbconvert_exporter": "python",
   "pygments_lexer": "ipython3",
   "version": "3.6.8"
  },
  "latex_envs": {
   "LaTeX_envs_menu_present": true,
   "autoclose": false,
   "autocomplete": true,
   "bibliofile": "biblio.bib",
   "cite_by": "apalike",
   "current_citInitial": 1,
   "eqLabelWithNumbers": true,
   "eqNumInitial": 1,
   "hotkeys": {
    "equation": "Ctrl-E",
    "itemize": "Ctrl-I"
   },
   "labels_anchors": false,
   "latex_user_defs": false,
   "report_style_numbering": false,
   "user_envs_cfg": false
  },
  "toc": {
   "base_numbering": 1,
   "nav_menu": {},
   "number_sections": true,
   "sideBar": true,
   "skip_h1_title": false,
   "title_cell": "Table of Contents",
   "title_sidebar": "Contents",
   "toc_cell": false,
   "toc_position": {},
   "toc_section_display": true,
   "toc_window_display": false
  },
  "varInspector": {
   "cols": {
    "lenName": 16,
    "lenType": 16,
    "lenVar": 40
   },
   "kernels_config": {
    "python": {
     "delete_cmd_postfix": "",
     "delete_cmd_prefix": "del ",
     "library": "var_list.py",
     "varRefreshCmd": "print(var_dic_list())"
    },
    "r": {
     "delete_cmd_postfix": ") ",
     "delete_cmd_prefix": "rm(",
     "library": "var_list.r",
     "varRefreshCmd": "cat(var_dic_list()) "
    }
   },
   "types_to_exclude": [
    "module",
    "function",
    "builtin_function_or_method",
    "instance",
    "_Feature"
   ],
   "window_display": true
  }
 },
 "nbformat": 4,
 "nbformat_minor": 4
}

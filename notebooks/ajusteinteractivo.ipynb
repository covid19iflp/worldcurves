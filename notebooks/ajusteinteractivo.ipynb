{
 "cells": [
  {
   "cell_type": "markdown",
   "metadata": {},
   "source": [
    "La idea es proponer que el número de casos confirmados  $C(t)$ es de la forma\n",
    "$$\n",
    "C_t=\\exp(f(t)+\\delta_t)\n",
    "$$\n",
    "con $f(t)$ una función tipo logística:\n",
    "$$\n",
    "f(t)=\\frac{h_1-h_0}{1+\\exp( (t_0-t)/a )} + h_0\n",
    "$$\n",
    "y $\\delta(t)$ una fluctuación estadística con una amplitud constante, de manera que $C_t$ tenga una fluctuación estadística relativa constante. \n",
    "Para encontrar los parámetros, ajustaremos entonces $\\log C_t$ con la curva $f(t)$.\n",
    "\n",
    "\n",
    "Si $t_0$ es negativo y grande en valor absoluto, de manera que $-t_0\\gg a$, la curva se puede aproximar por\n",
    "$$\n",
    "f(t)= h_1 + (h_0-h_1)e^{-|t_0|/a}\\exp(-t/a)\n",
    "$$\n",
    "que representa una relajación exponencial en todo el intervalo."
   ]
  },
  {
   "cell_type": "code",
   "execution_count": 1,
   "metadata": {
    "ExecuteTime": {
     "end_time": "2020-05-23T23:11:14.783519Z",
     "start_time": "2020-05-23T23:11:14.001439Z"
    },
    "hide_input": false,
    "scrolled": true
   },
   "outputs": [],
   "source": [
    "import scipy.optimize as scopt\n",
    "%matplotlib inline\n",
    "import ipywidgets as widgets\n",
    "import matplotlib.pyplot as plt\n",
    "import numpy as np\n",
    "import numpy.random as rnd\n",
    "import pandas as pd\n",
    "import json\n",
    "\n",
    "import warnings\n",
    "warnings.filterwarnings('ignore')\n",
    "warnings.simplefilter('ignore')\n",
    "\n",
    "fits = {} \n",
    "\n",
    "\n",
    "data = pd.read_json(\"../Datos/data.json\")\n",
    "nodes = {}\n",
    "for d in data:\n",
    "    nodes[d] = {}\n",
    "    for entry in  data[d].keys():\n",
    "        nodes[d][entry] =  data[d][entry]\n"
   ]
  },
  {
   "cell_type": "code",
   "execution_count": 5,
   "metadata": {
    "ExecuteTime": {
     "end_time": "2020-04-25T22:57:33.174218Z",
     "start_time": "2020-04-25T22:57:33.139326Z"
    },
    "hide_input": false,
    "scrolled": true
   },
   "outputs": [],
   "source": [
    "\n",
    "# Función a ajustar\n",
    "def  logistica(t,t0,a,h0,h1):\n",
    "    if t is np.ndarray:\n",
    "        return np.array([logistica(tc,t0,a,h1,h0) for tc in t])\n",
    "    else:\n",
    "        return (h1-h0)*(1-np.exp(-t/a))/(1.+np.exp((t0-t)/a)) + h0\n",
    "\n",
    "    \n",
    "def  logistica2(t,t0,a,h0,h1,ln0):\n",
    "    if t is np.ndarray:\n",
    "        return np.array([logistica2(tc,t0,a,h1,h0) for tc in t])\n",
    "    else:\n",
    "        ex1 = np.exp((t-t0)/a)\n",
    "        ex2 = np.exp(-t0/a)\n",
    "        t1 = h0 * (t-t0) + ln0\n",
    "        t2 =  a * np.log((ex1+1)/(ex2+1)) * (1-ex2) + t * ex2\n",
    "        return t1 + (h1-h0)*t2\n",
    "    \n",
    "def ajustar(pais,curva, ajuste=\"log\", maxday=None,threeshold = 100):\n",
    "    dictajuste = {}    \n",
    "    data = np.array(nodes[pais][\"curve_\"+curva])\n",
    "    if ajuste == \"log\":\n",
    "        lndata = np.log(data)\n",
    "        lndata = lndata[lndata >= np.log(threeshold)]\n",
    "    else:\n",
    "        lndata = data[data > 0]\n",
    "        lndata = lndata[lndata >= threeshold]\n",
    "        \n",
    "    \n",
    "    lndata = lndata\n",
    "    startday = len(data) - len(lndata)\n",
    "    days = np.array(range(len(lndata)))\n",
    "    if maxday is not None:\n",
    "        maxday = min(maxday,len(lndata))\n",
    "        days = days[:maxday]\n",
    "        lndata = lndata[:maxday]\n",
    "    if len(lndata)<8:\n",
    "        dictajuste[\"t_0\"] = np.nan\n",
    "        dictajuste[\"\\\\tau\"] = np.nan\n",
    "        dictajuste[\"h_0\"] = np.nan\n",
    "        dictajuste[\"h_1\"] = np.nan\n",
    "        dictajuste[\"ln_0\"] = np.nan\n",
    "    try:        \n",
    "        timescale = max(days)\n",
    "        scale =  max(lndata)\n",
    "        days = (days + startday) / timescale\n",
    "        lndata = lndata/scale\n",
    "        if ajuste == \"log\":\n",
    "            fitl,covl = scopt.curve_fit(lambda x,a,b: a*x+b,days,lndata,method=\"dogbox\")\n",
    "            p0 = ( .5 *(days[-1]+days[0]),1,fitl[0],fitl[0],lndata[0])\n",
    "            fit, cov = scopt.curve_fit(logistica2,days,lndata,method=\"dogbox\")\n",
    "            dictajuste[\"ln_0\"] =  fit[4]*scale\n",
    "            dictajuste[\"h_0\"] = fit[2]*scale/timescale\n",
    "            dictajuste[\"h_1\"] = fit[3]*scale/timescale\n",
    "        else:\n",
    "            try:\n",
    "                fit, cov = scopt.curve_fit(logistica,days,lndata)\n",
    "            except OptimizeWarning:\n",
    "                print(fit)\n",
    "            \n",
    "                \n",
    "            dictajuste[\"h_0\"] = fit[2]*scale\n",
    "            dictajuste[\"h_1\"] = fit[3]*scale\n",
    "            \n",
    "        dictajuste[\"t_0\"] = timescale * fit[0]\n",
    "        dictajuste[\"\\\\tau\"] = fit[1] * timescale\n",
    "        \n",
    "        \n",
    "    except:\n",
    "        dictajuste[\"t_0\"] = np.nan\n",
    "        dictajuste[\"\\\\tau\"] = np.nan\n",
    "        dictajuste[\"h_0\"] = np.nan\n",
    "        dictajuste[\"h_1\"] = np.nan \n",
    "        dictajuste[\"ln_0\"] = np.nan\n",
    "    return dictajuste\n",
    "\n",
    "\n",
    "def mostrar_ajuste(regions, curva,tipo,maxday=None,threeshold=1):\n",
    "    if curva == \"Confirmados\":\n",
    "        curva = \"confirmed\"\n",
    "    if curva == \"Recuperados\":\n",
    "        curva = \"recovered\"\n",
    "    if curva == \"Muertos\":\n",
    "        curva = \"deaths\"\n",
    "    if type(regions) is not list and type(regions) is not tuple :\n",
    "        regions = [regions]\n",
    "    \n",
    "    if tipo == \"ambos\":\n",
    "        fig, axs = plt.subplots(1,3,figsize=(15,4))\n",
    "    else:\n",
    "        fig, axs = plt.subplots(1,2,figsize=(10,4))\n",
    "        \n",
    "    for region in regions:\n",
    "        axs[0].set_xlim(0,2)\n",
    "        axs[0].set_ylim(0,2)\n",
    "        axs[0].set_axis_off()\n",
    "        ax = axs[1]\n",
    "        axs[0].text(.6,1.9,region)\n",
    "        if tipo in [\"ambos\", \"normal\"]:\n",
    "            data = np.array(nodes[region][\"curve_\"+curva])\n",
    "            days = np.array(range(len(data)))\n",
    "            ax.scatter(days,data,label=region+\" \"+curva)\n",
    "            try:\n",
    "                fit = ajustar(region,curva,\"normal\",maxday = maxday,threeshold=np.exp(threeshold))\n",
    "                ax.plot(days,logistica(days,fit[\"t_0\"],fit[\"\\\\tau\"],fit[\"h_0\"],fit[\"h_1\"]))\n",
    "                ax.set_title(\"Ajuste logistico de C_t\")\n",
    "                axs[0].text(0.2,1.6,\"Param Logistica\")\n",
    "                for i,k in enumerate(fit):\n",
    "                    axs[0].text(0.2,1.4-.2*i,\"$\"+k +\"=\"+str(round(fit[k],2))+\"$\"  )\n",
    "                axs[0].text(0.2,.5,\"Prediccion al\\n 1 de mayo:\"+str(round(logistica(100,\n",
    "                                                                           fit[\"t_0\"],\n",
    "                                                                           fit[\"\\\\tau\"],\n",
    "                                                                           fit[\"h_0\"],\n",
    "                                                                           fit[\"h_1\"]))   )  )\n",
    "            except:\n",
    "                pass\n",
    "                ax.legend()\n",
    "        if tipo == \"ambos\":\n",
    "            ax = axs[2]\n",
    "        if tipo in [\"ambos\", \"log\"]:\n",
    "            data = np.array(nodes[region][\"curve_\"+curva])\n",
    "            days = np.array(range(len(data)))\n",
    "            ax.scatter(days,np.log(data),label=region+\" \"+curva)\n",
    "            try:\n",
    "                fit = ajustar(region,curva,\"log\",maxday = maxday,threeshold=np.exp(threeshold))\n",
    "                ax.plot(days,logistica2(days,fit[\"t_0\"],fit[\"\\\\tau\"],fit[\"h_0\"],fit[\"h_1\"],fit[\"ln_0\"]))\n",
    "                axs[0].text(1,1.6,\"Param $\\\\int logistic(t)dt$\")\n",
    "                for i,k in enumerate(fit):\n",
    "                    axs[0].text(1,1.4-.2*i,\"$\" + k +\"=\"+str(round(fit[k],2))+\"$\")        \n",
    "                axs[0].text(1.1,.3,\"Prediccion al\\n 1 de mayo:\"+str(round(np.exp(logistica2(100,\n",
    "                                                                           fit[\"t_0\"],\n",
    "                                                                           fit[\"\\\\tau\"],\n",
    "                                                                           fit[\"h_0\"],\n",
    "                                                                           fit[\"h_1\"],\n",
    "                                                                           fit[\"ln_0\"])))   )  )\n",
    "\n",
    "            except:\n",
    "                pass\n",
    "            ax.set_title(\"Ajuste logistico de log(C_t)\")\n",
    "            ax.legend()\n",
    "        \n",
    "    plt.show()\n",
    "        \n",
    "        \n",
    "        \n",
    "    \n",
    "        \n"
   ]
  },
  {
   "cell_type": "code",
   "execution_count": 6,
   "metadata": {
    "ExecuteTime": {
     "end_time": "2020-04-25T22:57:34.126039Z",
     "start_time": "2020-04-25T22:57:33.318620Z"
    },
    "hide_input": false,
    "scrolled": false
   },
   "outputs": [
    {
     "data": {
      "application/vnd.jupyter.widget-view+json": {
       "model_id": "c4d3adba35d14a3e900bc28f69b5c66a",
       "version_major": 2,
       "version_minor": 0
      },
      "text/plain": [
       "interactive(children=(SelectMultiple(description='País/Región:', index=(0,), options=('Argentina', 'Bolivia', …"
      ]
     },
     "metadata": {},
     "output_type": "display_data"
    }
   ],
   "source": [
    "\n",
    "regionesagraficar = widgets.SelectMultiple(options=nodes.keys(),\n",
    "    description='País/Región:',\n",
    "    value=[\"Argentina\"],\n",
    "    disabled=False)\n",
    "\n",
    "curva = widgets.Dropdown(options=['Confirmados', 'Recuperados', 'Muertos'],\n",
    "    description='Curva:',\n",
    "    ensure_option=True,\n",
    "    disabled=False)\n",
    "\n",
    "\n",
    "tipo=widgets.Dropdown(options=[\"ambos\",'normal', 'log'],\n",
    "    description='Tipo de ajuste:',\n",
    "    ensure_option=True,\n",
    "    disabled=False)\n",
    "\n",
    "maxday=widgets.IntSlider(100,0,100,\n",
    "    description='Número de días a ajustar',\n",
    "    ensure_option=True,\n",
    "    disabled=False)\n",
    "\n",
    "threeshold=widgets.IntSlider(2,0,12,\n",
    "    description='Descartar dias antes de tener e^()casos',\n",
    "    ensure_option=True,\n",
    "    disabled=False)\n",
    "\n",
    "\n",
    "\n",
    "interact=widgets.interact(mostrar_ajuste,regions=regionesagraficar,curva=curva,tipo=tipo,\n",
    "                          maxday=maxday,threeshold=threeshold)\n",
    "\n",
    "\n",
    "#ajustar(\"Argentina\",\"confirmed\",\"log\",10)"
   ]
  },
  {
   "cell_type": "code",
   "execution_count": 7,
   "metadata": {
    "ExecuteTime": {
     "end_time": "2020-04-25T22:57:34.278754Z",
     "start_time": "2020-04-25T22:57:34.274798Z"
    },
    "scrolled": false
   },
   "outputs": [
    {
     "data": {
      "text/plain": [
       "2.3104906018664844"
      ]
     },
     "execution_count": 7,
     "metadata": {},
     "output_type": "execute_result"
    }
   ],
   "source": [
    "np.log(2)/.3"
   ]
  },
  {
   "cell_type": "code",
   "execution_count": null,
   "metadata": {},
   "outputs": [],
   "source": []
  }
 ],
 "metadata": {
  "kernelspec": {
   "display_name": "Python 3",
   "language": "python",
   "name": "python3"
  },
  "language_info": {
   "codemirror_mode": {
    "name": "ipython",
    "version": 3
   },
   "file_extension": ".py",
   "mimetype": "text/x-python",
   "name": "python",
   "nbconvert_exporter": "python",
   "pygments_lexer": "ipython3",
   "version": "3.7.6"
  },
  "latex_envs": {
   "LaTeX_envs_menu_present": true,
   "autoclose": false,
   "autocomplete": true,
   "bibliofile": "biblio.bib",
   "cite_by": "apalike",
   "current_citInitial": 1,
   "eqLabelWithNumbers": true,
   "eqNumInitial": 1,
   "hotkeys": {
    "equation": "Ctrl-E",
    "itemize": "Ctrl-I"
   },
   "labels_anchors": false,
   "latex_user_defs": false,
   "report_style_numbering": false,
   "user_envs_cfg": false
  },
  "toc": {
   "base_numbering": 1,
   "nav_menu": {},
   "number_sections": true,
   "sideBar": true,
   "skip_h1_title": false,
   "title_cell": "Table of Contents",
   "title_sidebar": "Contents",
   "toc_cell": false,
   "toc_position": {},
   "toc_section_display": true,
   "toc_window_display": false
  },
  "varInspector": {
   "cols": {
    "lenName": 16,
    "lenType": 16,
    "lenVar": 40
   },
   "kernels_config": {
    "python": {
     "delete_cmd_postfix": "",
     "delete_cmd_prefix": "del ",
     "library": "var_list.py",
     "varRefreshCmd": "print(var_dic_list())"
    },
    "r": {
     "delete_cmd_postfix": ") ",
     "delete_cmd_prefix": "rm(",
     "library": "var_list.r",
     "varRefreshCmd": "cat(var_dic_list()) "
    }
   },
   "types_to_exclude": [
    "module",
    "function",
    "builtin_function_or_method",
    "instance",
    "_Feature"
   ],
   "window_display": true
  }
 },
 "nbformat": 4,
 "nbformat_minor": 4
}
